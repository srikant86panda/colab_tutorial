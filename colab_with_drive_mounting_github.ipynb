{
 "cells": [
  {
   "cell_type": "code",
   "execution_count": null,
   "metadata": {
    "colab": {
     "base_uri": "https://localhost:8080/",
     "height": 71
    },
    "colab_type": "code",
    "id": "-XEdmS5vl3g0",
    "outputId": "4969e653-14da-49a6-f7a4-764dd9e1c53f"
   },
   "outputs": [],
   "source": [
    "import os\n",
    "from google.colab import drive\n",
    "\n",
    "ROOT = \"/content/drive\"\n",
    "print(f'root folder: {ROOT}')\n",
    "\n",
    "drive.mount(ROOT)          "
   ]
  },
  {
   "cell_type": "code",
   "execution_count": null,
   "metadata": {
    "colab": {
     "base_uri": "https://localhost:8080/",
     "height": 68
    },
    "colab_type": "code",
    "id": "dWDYUaG3ml4i",
    "outputId": "4b7f2d1a-5103-49af-8e68-0cfe03379d65"
   },
   "outputs": [],
   "source": [
    "workspace_rel_path = 'My Drive/github'\n",
    "git_repo = \"colab_tutorial\" \n",
    "\n",
    "git_user_name = \"srikant86Panda\" \n",
    "git_token = \"GIT HUB ACCESS TOKEN\"  \n",
    "git_email = \"srikant86.panda@gmail.com\"\n",
    "git_name = \"Srikant Panda\"\n",
    "\n",
    "workspace_abs_path = os.path.join(ROOT, workspace_rel_path)\n",
    "\n",
    "print(f\"workspace_abs_path: {workspace_abs_path}\")\n",
    "\n",
    "if not os.path.exists(workspace_abs_path):\n",
    "    os.makedirs(workspace_abs_path)\n",
    "    pass\n",
    "\n",
    "git_repo_url = f\"https://{git_token}@github.com/{git_user_name}/{git_repo}.git\"\n",
    "print(f\"git_repo_url: {git_repo_url}\")"
   ]
  },
  {
   "cell_type": "code",
   "execution_count": null,
   "metadata": {
    "colab": {
     "base_uri": "https://localhost:8080/",
     "height": 173
    },
    "colab_type": "code",
    "id": "wihaXZUnqJAB",
    "outputId": "8ca0a632-b3b2-48db-ee36-4c3e1d045e41"
   },
   "outputs": [],
   "source": [
    "% cd \"{workspace_abs_path}\"\n",
    "! git clone \"{git_repo_url}\""
   ]
  },
  {
   "cell_type": "code",
   "execution_count": null,
   "metadata": {
    "colab": {
     "base_uri": "https://localhost:8080/",
     "height": 34
    },
    "colab_type": "code",
    "id": "1qHBaXCXqXLc",
    "outputId": "1ca55867-974c-4341-d054-26a123204063"
   },
   "outputs": [],
   "source": [
    "% cd \"{git_repo}\""
   ]
  },
  {
   "cell_type": "code",
   "execution_count": null,
   "metadata": {},
   "outputs": [],
   "source": [
    "% git config --global user.email \"{git_email}\"\n",
    "% git config --global user.name \"{git_name}\""
   ]
  },
  {
   "cell_type": "code",
   "execution_count": null,
   "metadata": {
    "colab": {
     "base_uri": "https://localhost:8080/",
     "height": 85
    },
    "colab_type": "code",
    "id": "1F76oAJGuP21",
    "outputId": "8398d178-5291-461f-d3e3-37cd24a4f119"
   },
   "outputs": [],
   "source": [
    "! ls -la"
   ]
  },
  {
   "cell_type": "code",
   "execution_count": null,
   "metadata": {
    "colab": {
     "base_uri": "https://localhost:8080/",
     "height": 170
    },
    "colab_type": "code",
    "id": "s29Lbz5I03Ef",
    "outputId": "fd0be754-46cf-4d5e-8100-e480dd414c28"
   },
   "outputs": [],
   "source": [
    "! git status"
   ]
  },
  {
   "cell_type": "code",
   "execution_count": null,
   "metadata": {
    "colab": {},
    "colab_type": "code",
    "id": "zxGi2ff74Lye"
   },
   "outputs": [],
   "source": [
    "! git add -A"
   ]
  },
  {
   "cell_type": "code",
   "execution_count": null,
   "metadata": {
    "colab": {
     "base_uri": "https://localhost:8080/",
     "height": 68
    },
    "colab_type": "code",
    "id": "mF53OKWK4N2I",
    "outputId": "28a84a44-02b2-4346-f7ec-c3c64a8801e6"
   },
   "outputs": [],
   "source": [
    "! git commit -m \"new file added on colab\""
   ]
  },
  {
   "cell_type": "code",
   "execution_count": null,
   "metadata": {
    "colab": {
     "base_uri": "https://localhost:8080/",
     "height": 102
    },
    "colab_type": "code",
    "id": "utMJlVIX4SKr",
    "outputId": "249c810d-7e50-4b05-d4b3-84108e66ae84"
   },
   "outputs": [],
   "source": [
    "! git status"
   ]
  },
  {
   "cell_type": "code",
   "execution_count": null,
   "metadata": {
    "colab": {
     "base_uri": "https://localhost:8080/",
     "height": 170
    },
    "colab_type": "code",
    "id": "gwOV3NL747Hq",
    "outputId": "2707d07e-54b4-41ed-8548-ddaa64b99215"
   },
   "outputs": [],
   "source": [
    "! git push "
   ]
  }
 ],
 "metadata": {
  "colab": {
   "name": "Untitled",
   "provenance": []
  },
  "kernelspec": {
   "display_name": "Python 3",
   "language": "python",
   "name": "python3"
  },
  "language_info": {
   "codemirror_mode": {
    "name": "ipython",
    "version": 3
   },
   "file_extension": ".py",
   "mimetype": "text/x-python",
   "name": "python",
   "nbconvert_exporter": "python",
   "pygments_lexer": "ipython3",
   "version": "3.7.7"
  }
 },
 "nbformat": 4,
 "nbformat_minor": 1
}
